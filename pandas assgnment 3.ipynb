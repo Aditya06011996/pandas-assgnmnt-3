{
 "cells": [
  {
   "cell_type": "code",
   "execution_count": 1,
   "id": "f1c7cb67-f1a3-44ce-b738-2c08ea083d10",
   "metadata": {},
   "outputs": [],
   "source": [
    "#Consider following code to answer further questions:\n",
    "\n",
    "import pandas as pd\n",
    "\n",
    "course_name = ['Data Science' , 'Machine Learning', 'Big Data', 'Data Engineer']\n",
    "\n",
    "duration = [2,3,6,4]\n",
    "\n",
    "df = pd.DataFrame(data = {'course_name' : course_name, 'duration' : duration})"
   ]
  },
  {
   "cell_type": "markdown",
   "id": "a87aaa50-fd24-4892-82db-845b42349bc7",
   "metadata": {},
   "source": [
    "Q 1 Write a code to print the data present in the second row of the dataframe,df."
   ]
  },
  {
   "cell_type": "markdown",
   "id": "744b4439-2446-4c0b-9637-652dc8514b4f",
   "metadata": {},
   "source": [
    "Ans - Certainly! You can use the .iloc indexer to access rows by their integer position. Since DataFrame indexing starts from 0, the second row would be at index 1. Here's how you can print the data present in the second row of the DataFrame df:"
   ]
  },
  {
   "cell_type": "code",
   "execution_count": 2,
   "id": "8b3b2e56-4c36-4098-a6a4-6d2713e7dc18",
   "metadata": {},
   "outputs": [
    {
     "name": "stdout",
     "output_type": "stream",
     "text": [
      "course_name    Machine Learning\n",
      "duration                      3\n",
      "Name: 1, dtype: object\n"
     ]
    }
   ],
   "source": [
    "print(df.iloc[1])\n"
   ]
  },
  {
   "cell_type": "markdown",
   "id": "73489633-4cc5-4b1d-9ed4-dc8f2f42bfc9",
   "metadata": {},
   "source": [
    "It shows the values for the columns \"course_name\" and \"duration\" in the second row."
   ]
  },
  {
   "cell_type": "markdown",
   "id": "1aef4365-bb21-4fc1-acd2-194ee19dc035",
   "metadata": {},
   "source": [
    "Q 2 What is the difference between the functions loc and iloc in pandas.DataFrame?"
   ]
  },
  {
   "cell_type": "markdown",
   "id": "6a9c2af9-113f-4199-867c-f0f323ef2ae4",
   "metadata": {},
   "source": [
    "Ans - In pandas, both loc and iloc are used to access data within a DataFrame, but they have different ways of indexing and selecting data.\n",
    "\n",
    "(1) loc: This function is label-based. It is used to select data based on labels (i.e., row and column names) rather than integer positions. It takes the row and column labels as arguments and returns the corresponding data.\n",
    "\n",
    "Example:"
   ]
  },
  {
   "cell_type": "code",
   "execution_count": null,
   "id": "8f23c38c-37c7-46c6-bc30-c7e37f1ef3df",
   "metadata": {},
   "outputs": [],
   "source": [
    "df.loc[1]  # Selects the row with label 1\n",
    "df.loc[1, 'course_name']  # Selects the value in the row with label 1 and column 'course_name'\n"
   ]
  },
  {
   "cell_type": "markdown",
   "id": "85d93b40-2573-4acd-a153-dd3ad44fc0d6",
   "metadata": {},
   "source": [
    "(2) iloc: This function is integer-based. It is used to select data based on integer positions of rows and columns. It takes integer indices as arguments and returns the corresponding data.\n",
    "\n",
    "Example:"
   ]
  },
  {
   "cell_type": "code",
   "execution_count": null,
   "id": "1446974a-4db2-4021-8e05-df91cd941a57",
   "metadata": {},
   "outputs": [],
   "source": [
    "df.iloc[1]  # Selects the row at index 1 (which is the second row)\n",
    "df.iloc[1, 0]  # Selects the value in the second row and first column\n"
   ]
  },
  {
   "cell_type": "markdown",
   "id": "467587ae-2b88-430f-a401-308cd9189519",
   "metadata": {},
   "source": [
    "In summary:\n",
    "\n",
    "* Use loc when you want to access data using labels (row and column names).\n",
    "* Use iloc when you want to access data using integer positions (indices).\n",
    "\n",
    "In your previous question, when you wanted to print the data present in the second row of the DataFrame, you used df.iloc[1] because you were interested in the second row based on integer position.\n",
    "\n",
    "\n",
    "\n",
    "\n"
   ]
  },
  {
   "cell_type": "markdown",
   "id": "fd3061d3-f928-4605-82ca-694e3a4eed82",
   "metadata": {},
   "source": [
    "Q 3 Reindex the given dataframe using a variable, reindex = [3,0,1,2] and store it in the variable, new_df then find the output for both new_df.loc[2] and new_df.iloc[2].\n",
    "\n",
    "Did you observe any difference in both the outputs? if so then explain it.\n",
    "\n",
    "Consider the below code to answer further questions:\n"
   ]
  },
  {
   "cell_type": "code",
   "execution_count": null,
   "id": "8bcdcb10-26a8-4235-b1af-8ec893ced1bc",
   "metadata": {},
   "outputs": [],
   "source": [
    "import pandas as pd\n",
    "import numpy as np \n",
    "\n",
    "columns = ['column_1', 'column_2', 'column_3', 'column_4', 'column_5', 'column_6']\n",
    "\n",
    "indices = [1,2,3,4,5,6]\n",
    "\n",
    "#Creating a dataframe:\n",
    "\n",
    "df1 = pd.DataFrame(np.random.rand(6,6), columns = columns, index = indices)"
   ]
  },
  {
   "cell_type": "markdown",
   "id": "b83c817e-56d7-4223-9a3b-0978ae63457c",
   "metadata": {},
   "source": [
    "Ans - Let's start by reindexing the given DataFrame using the reindex variable [3, 0, 1, 2] and storing it in the variable new_df:\n"
   ]
  },
  {
   "cell_type": "code",
   "execution_count": null,
   "id": "f4c0fdd4-d609-46c5-b6ed-aabc4af9f2af",
   "metadata": {},
   "outputs": [],
   "source": [
    "import pandas as pd\n",
    "\n",
    "course_name = ['Data Science', 'Machine Learning', 'Big Data', 'Data Engineer']\n",
    "duration = [2, 3, 6, 4]\n",
    "\n",
    "df = pd.DataFrame(data={'course_name': course_name, 'duration': duration})\n",
    "\n",
    "reindex = [3, 0, 1, 2]\n",
    "new_df = df.reindex(reindex)\n"
   ]
  },
  {
   "cell_type": "markdown",
   "id": "937dcb70-624d-4ee5-a67c-e5ba5ba620a2",
   "metadata": {},
   "source": [
    "Now, let's find the output for both new_df.loc[2] and new_df.iloc[2]"
   ]
  },
  {
   "cell_type": "code",
   "execution_count": null,
   "id": "936510b1-4b4f-4913-82ee-6e78d62c3efb",
   "metadata": {},
   "outputs": [],
   "source": [
    "output_loc = new_df.loc[2]\n",
    "output_iloc = new_df.iloc[2]\n",
    "\n",
    "print(\"Output for new_df.loc[2]:\\n\", output_loc)\n",
    "print(\"\\nOutput for new_df.iloc[2]:\\n\", output_iloc)\n"
   ]
  },
  {
   "cell_type": "markdown",
   "id": "3f4b6ee1-a9e4-42fa-9cbe-56a5a55c891e",
   "metadata": {},
   "source": [
    "reindex is used to change the row labels (indices) of a DataFrame or Series. If there has been any update to pandas after that, make sure to refer to the latest pandas documentation.\n",
    "\n",
    "Regarding the outputs, there might be a difference because reindexing changes the order of rows in the DataFrame based on the new index positions. However, the exact difference cannot be determined without knowing the values of the DataFrame and the specified reindex values. The difference between loc and iloc will remain the same as explained earlier – loc uses label-based indexing, and iloc uses integer-based indexing."
   ]
  },
  {
   "cell_type": "markdown",
   "id": "5f7522e4-da19-4f10-a3f2-4047568262f9",
   "metadata": {},
   "source": [
    "Q 4 Write a code to find the following statistical measurements for the above dataframe df1:\n",
    "(i) mean of each and every column present in the dataframe.\n",
    "(ii) standard deviation of column, 'column_2'"
   ]
  },
  {
   "cell_type": "markdown",
   "id": "1b29e5af-d427-457a-bab8-f27e38e639c9",
   "metadata": {},
   "source": [
    "Ans - Certainly! Here's how you can calculate the mean of each column and the standard deviation of the 'column_2' in the DataFrame df1"
   ]
  },
  {
   "cell_type": "code",
   "execution_count": null,
   "id": "b852eb12-0cf9-4e36-bb8e-155c1e7eeda5",
   "metadata": {},
   "outputs": [],
   "source": [
    "import pandas as pd\n",
    "import numpy as np\n",
    "\n",
    "columns = ['column_1', 'column_2', 'column_3', 'column_4', 'column_5', 'column_6']\n",
    "indices = [1, 2, 3, 4, 5, 6]\n",
    "\n",
    "# Creating a dataframe:\n",
    "df1 = pd.DataFrame(np.random.rand(6, 6), columns=columns, index=indices)\n",
    "\n",
    "# Calculate mean of each column\n",
    "column_means = df1.mean()\n",
    "print(\"Mean of each column:\\n\", column_means)\n",
    "\n",
    "# Calculate standard deviation of 'column_2'\n",
    "column_2_std_dev = df1['column_2'].std()\n",
    "print(\"\\nStandard deviation of 'column_2':\", column_2_std_dev)\n"
   ]
  },
  {
   "cell_type": "markdown",
   "id": "52a401dd-b0c3-46d3-b718-5e461804fa3b",
   "metadata": {},
   "source": [
    "This code calculates and prints the mean for each column in the DataFrame and the standard deviation of the 'column_2'. The .mean() function is used to calculate the mean, and the .std() function is used to calculate the standard deviation"
   ]
  },
  {
   "cell_type": "markdown",
   "id": "c258817c-f265-4f0b-bebc-f0946dc598eb",
   "metadata": {},
   "source": [
    "Q 5 Replace the data present in the second row of column,'column_2' by a string variable then find the mean of column,column_2.\n",
    "\n",
    "If you are getting errors in executing it then explain why.\n",
    "\n",
    "[Hint : To replace the data use df1.loc[] and equate this to string data of your choice.]"
   ]
  },
  {
   "cell_type": "markdown",
   "id": "fe41955e-e23f-4ff0-a481-b7d8cd569742",
   "metadata": {},
   "source": [
    "Ans - In order to replace the data present in the second row of 'column_2' with a string variable, and then find the mean of 'column_2', you can follow these steps:"
   ]
  },
  {
   "cell_type": "code",
   "execution_count": null,
   "id": "d83d518e-43ea-40fa-8fb7-79594b4d57e2",
   "metadata": {},
   "outputs": [],
   "source": [
    "import pandas as pd\n",
    "import numpy as np\n",
    "\n",
    "columns = ['column_1', 'column_2', 'column_3', 'column_4', 'column_5', 'column_6']\n",
    "indices = [1, 2, 3, 4, 5, 6]\n",
    "\n",
    "# Creating a dataframe:\n",
    "df1 = pd.DataFrame(np.random.rand(6, 6), columns=columns, index=indices)\n",
    "\n",
    "# Replace data in the second row of 'column_2' with a string\n",
    "replacement_string = \"Replaced_String\"\n",
    "df1.loc[2, 'column_2'] = replacement_string\n",
    "\n",
    "# Find the mean of 'column_2'\n",
    "column_2_mean = df1['column_2'].mean()\n",
    "print(\"Mean of 'column_2':\", column_2_mean)\n"
   ]
  },
  {
   "cell_type": "markdown",
   "id": "14a2de75-a589-4132-93f8-907a24b5e735",
   "metadata": {},
   "source": [
    "However, attempting to calculate the mean of 'column_2' after replacing a value with a string will result in an error because pandas automatically infers the data type of a column based on its contents. Mixing data types within a column can lead to issues, and in this case, trying to calculate the mean of a column that now contains a string will raise a TypeError.\n",
    "\n",
    "If you want to replace the value with a string and still find the mean of the numeric values in 'column_2', you would need to ensure that the replaced value remains numeric (e.g., replace it with a numeric value or a NaN).\n",
    "\n",
    "\n",
    "\n",
    "\n"
   ]
  },
  {
   "cell_type": "markdown",
   "id": "9fa0bca2-e6f5-4e1c-a710-17308dff5bf9",
   "metadata": {},
   "source": [
    "Q 6 What do you understand about the windows function in pandas and list the types of windows functions?"
   ]
  },
  {
   "cell_type": "markdown",
   "id": "c3d8bdfe-9045-4fc2-b906-64a0449a3614",
   "metadata": {},
   "source": [
    "Ans - In pandas, window functions (also known as rolling or moving functions) are used to perform calculations on a \"window\" of data points within a specified range. These functions enable you to perform various operations like moving averages, cumulative sums, rolling standard deviations, etc., on a sliding window of data. This is particularly useful for time series analysis, financial data analysis, and other sequential data analysis tasks.\n",
    "\n",
    "Window functions in pandas are usually applied using the .rolling() method, which returns a Rolling object that can be used to apply various aggregation and transformation operations.\n",
    "\n",
    "Here are some common types of window functions available in pandas:\n",
    "\n",
    "(1) Moving Averages: Calculate the average of a window of data points. Commonly used for smoothing out fluctuations in time series data."
   ]
  },
  {
   "cell_type": "code",
   "execution_count": null,
   "id": "64f5bf0a-2648-4fdb-b4b8-c94151417bfd",
   "metadata": {},
   "outputs": [],
   "source": [
    "rolling_mean = df['column'].rolling(window=window_size).mean()\n"
   ]
  },
  {
   "cell_type": "markdown",
   "id": "60e0b966-cd50-4f2d-a674-83455a9f743b",
   "metadata": {},
   "source": [
    "(2) Moving Sum: Calculate the sum of values in a moving window."
   ]
  },
  {
   "cell_type": "code",
   "execution_count": null,
   "id": "e4c0812d-b888-4c8b-9070-8ab417f40280",
   "metadata": {},
   "outputs": [],
   "source": [
    "rolling_sum = df['column'].rolling(window=window_size).sum()\n"
   ]
  },
  {
   "cell_type": "markdown",
   "id": "5fb58135-fd94-4221-9215-dde1b7244960",
   "metadata": {},
   "source": [
    "(3) Moving Standard Deviation: Calculate the standard deviation of values in a moving window."
   ]
  },
  {
   "cell_type": "code",
   "execution_count": null,
   "id": "29706370-da1d-43c4-93e4-8fb6e4ecf585",
   "metadata": {},
   "outputs": [],
   "source": [
    "rolling_std = df['column'].rolling(window=window_size).std()\n"
   ]
  },
  {
   "cell_type": "markdown",
   "id": "9658e573-bad8-426a-83ee-1df672023274",
   "metadata": {},
   "source": [
    "(4) Expanding Functions: Instead of a fixed-size window, an expanding window includes all preceding data points."
   ]
  },
  {
   "cell_type": "code",
   "execution_count": null,
   "id": "f4b8a18b-a432-49cd-916a-571fbb28f300",
   "metadata": {},
   "outputs": [],
   "source": [
    "expanding_sum = df['column'].expanding().sum()\n"
   ]
  },
  {
   "cell_type": "markdown",
   "id": "3ace1bd8-d0e2-46dd-919b-70a156262b29",
   "metadata": {},
   "source": [
    "(5) Exponential Moving Average: A weighted moving average that gives more weight to recent data points."
   ]
  },
  {
   "cell_type": "code",
   "execution_count": null,
   "id": "cdbdde4b-7d4d-4cf7-9c92-50c8b7d210ff",
   "metadata": {},
   "outputs": [],
   "source": [
    "ema = df['column'].ewm(span=window_span).mean()\n"
   ]
  },
  {
   "cell_type": "markdown",
   "id": "2a83b0ae-f0e8-471c-9ec8-52e909bfc60c",
   "metadata": {},
   "source": [
    "(6) Rolling Apply Functions: Applying custom functions to the rolling window."
   ]
  },
  {
   "cell_type": "code",
   "execution_count": null,
   "id": "4fd20f36-b354-49e1-b6a7-eb405a91257f",
   "metadata": {},
   "outputs": [],
   "source": [
    "def custom_function(window_data):\n",
    "    # Your custom calculation here\n",
    "    return result\n",
    "\n",
    "rolling_result = df['column'].rolling(window=window_size).apply(custom_function)\n"
   ]
  },
  {
   "cell_type": "markdown",
   "id": "c34bb9f0-be7d-4d9a-9b91-adb3e8204f42",
   "metadata": {},
   "source": [
    "(7) Ranking Functions: Calculate ranks within a rolling window."
   ]
  },
  {
   "cell_type": "code",
   "execution_count": null,
   "id": "14beeba4-d0e9-468e-a505-855ff199c320",
   "metadata": {},
   "outputs": [],
   "source": [
    "rolling_rank = df['column'].rolling(window=window_size).rank()\n"
   ]
  },
  {
   "cell_type": "markdown",
   "id": "7df922f2-d6a8-4a9b-a2bc-ebda3cddc141",
   "metadata": {},
   "source": [
    "(8) Quantile Functions: Calculate quantiles within a rolling window."
   ]
  },
  {
   "cell_type": "code",
   "execution_count": null,
   "id": "fcae9bcb-8535-4d71-9b77-e1fb0b9e520c",
   "metadata": {},
   "outputs": [],
   "source": [
    "rolling_quantile = df['column'].rolling(window=window_size).quantile(q)\n"
   ]
  },
  {
   "cell_type": "markdown",
   "id": "4d7a0303-2ae7-4358-b347-c85fd9575a48",
   "metadata": {},
   "source": [
    "These are just a few examples of the types of window functions available in pandas. The .rolling() method provides a flexible way to perform various calculations on moving windows of data, enhancing the analysis and insights you can gain from your data, especially when dealing with time series or sequential data."
   ]
  },
  {
   "cell_type": "markdown",
   "id": "ca86f89d-69b7-4250-855a-e378fd62186e",
   "metadata": {},
   "source": [
    "Q 7 Write a code to print only the current month and year at the time of answering this question.\n",
    "\n",
    "[Hint : use pandas.datetime function]"
   ]
  },
  {
   "cell_type": "markdown",
   "id": "4572096f-b0bc-43e5-adc3-1e77a06492c7",
   "metadata": {},
   "source": [
    "Ans -  here's how you can use the pandas library to print the current month and year:\n"
   ]
  },
  {
   "cell_type": "code",
   "execution_count": null,
   "id": "682eedba-1c0f-4208-91b2-d4e0784285a1",
   "metadata": {},
   "outputs": [],
   "source": [
    "import pandas as pd\n",
    "\n",
    "# Get the current date and time\n",
    "current_date = pd.Timestamp.now()\n",
    "\n",
    "# Extract the month and year from the current date\n",
    "current_month = current_date.month\n",
    "current_year = current_date.year\n",
    "\n",
    "print(\"Current Month:\", current_month)\n",
    "print(\"Current Year:\", current_year)\n"
   ]
  },
  {
   "cell_type": "markdown",
   "id": "3342ac87-f098-4d55-92d5-593057c8f4d5",
   "metadata": {},
   "source": [
    "This code will print the current month and year based on the system's date and time when the code is executed."
   ]
  },
  {
   "cell_type": "markdown",
   "id": "a5230e0f-c0b0-48d3-9881-b5892334e43a",
   "metadata": {},
   "source": [
    "Q 8 Write a Python program that takes in two dates as input ( in the format YYYY-MM-DD) and calculates the difference between them in days, hours, and minutes using Pandas time delta. The program should prompt the user to enter the dates and display the result."
   ]
  },
  {
   "cell_type": "markdown",
   "id": "ef1d7508-37ed-46d3-ad78-5b0017b7b5ea",
   "metadata": {},
   "source": [
    "Ans - Here's a Python program that takes two dates as input, calculates the difference between them in days, hours, and minutes using Pandas' timedelta, and then displays the result:"
   ]
  },
  {
   "cell_type": "code",
   "execution_count": null,
   "id": "5c879f45-2122-4838-befa-ad4fdab30639",
   "metadata": {},
   "outputs": [],
   "source": [
    "import pandas as pd\n",
    "\n",
    "# Function to calculate the difference between two dates\n",
    "def calculate_time_difference(date1, date2):\n",
    "    # Convert input strings to datetime objects\n",
    "    date1 = pd.to_datetime(date1)\n",
    "    date2 = pd.to_datetime(date2)\n",
    "    \n",
    "    # Calculate the time difference\n",
    "    time_difference = date2 - date1\n",
    "    \n",
    "    # Extract days, hours, and minutes from the time difference\n",
    "    days = time_difference.days\n",
    "    hours = time_difference.seconds // 3600\n",
    "    minutes = (time_difference.seconds % 3600) // 60\n",
    "    \n",
    "    return days, hours, minutes\n",
    "\n",
    "# Prompt user for input\n",
    "date1_input = input(\"Enter the first date (YYYY-MM-DD): \")\n",
    "date2_input = input(\"Enter the second date (YYYY-MM-DD): \")\n",
    "\n",
    "# Calculate the time difference\n",
    "days_diff, hours_diff, minutes_diff = calculate_time_difference(date1_input, date2_input)\n",
    "\n",
    "# Display the result\n",
    "print(f\"Difference between the dates:\")\n",
    "print(f\"Days: {days_diff}\")\n",
    "print(f\"Hours: {hours_diff}\")\n",
    "print(f\"Minutes: {minutes_diff}\")\n"
   ]
  },
  {
   "cell_type": "markdown",
   "id": "62d0658c-9c39-48f1-89b0-96990691624a",
   "metadata": {},
   "source": [
    "When you run this program, it will prompt you to enter two dates in the format \"YYYY-MM-DD\" and then display the difference between them in days, hours, and minutes. Make sure to input the dates in the correct format to get accurate results."
   ]
  },
  {
   "cell_type": "markdown",
   "id": "bdc13ad2-8912-402f-9504-657e0e629a09",
   "metadata": {},
   "source": [
    "Q 9 Write a Python program that reads a CSV file containing categorical data and converts a specified column to a categorical data type. The program should prompt the user to enter the file path, column name, and category order, and then display the sorted data."
   ]
  },
  {
   "cell_type": "markdown",
   "id": "0349ffcb-f26f-488c-85cf-ecf993c283e8",
   "metadata": {},
   "source": [
    "Ans - Here's a Python program that reads a CSV file, converts a specified column to a categorical data type, sorts the data based on the categorical order, and displays the sorted data:"
   ]
  },
  {
   "cell_type": "code",
   "execution_count": null,
   "id": "9769c102-2e7d-459f-9b6d-b81f3695e7da",
   "metadata": {},
   "outputs": [],
   "source": [
    "import pandas as pd\n",
    "\n",
    "# Function to convert specified column to categorical\n",
    "def convert_to_categorical(data, column_name, category_order):\n",
    "    # Convert the column to categorical with specified category order\n",
    "    data[column_name] = pd.Categorical(data[column_name], categories=category_order, ordered=True)\n",
    "    return data\n",
    "\n",
    "# Function to sort data based on the specified column\n",
    "def sort_data(data, column_name):\n",
    "    sorted_data = data.sort_values(by=[column_name])\n",
    "    return sorted_data\n",
    "\n",
    "# Prompt user for input\n",
    "file_path = input(\"Enter the CSV file path: \")\n",
    "column_name = input(\"Enter the column name to convert to categorical: \")\n",
    "category_order = input(\"Enter the category order (comma-separated): \").split(\",\")\n",
    "\n",
    "# Read CSV file\n",
    "data = pd.read_csv(file_path)\n",
    "\n",
    "# Convert specified column to categorical\n",
    "data = convert_to_categorical(data, column_name, category_order)\n",
    "\n",
    "# Sort data based on the specified column\n",
    "sorted_data = sort_data(data, column_name)\n",
    "\n",
    "# Display the sorted data\n",
    "print(\"Sorted Data:\")\n",
    "print(sorted_data)\n"
   ]
  },
  {
   "cell_type": "markdown",
   "id": "e6eb6b6a-f060-4789-b927-bf956efce105",
   "metadata": {},
   "source": [
    "When you run this program, it will prompt you to enter the CSV file path, column name you want to convert to categorical, and the category order (comma-separated). It will then read the CSV file, convert the specified column to a categorical data type, sort the data based on the categorical order, and display the sorted data. Make sure the CSV file exists and that you provide valid input for category order."
   ]
  },
  {
   "cell_type": "markdown",
   "id": "77c475a4-a93a-496d-a9f1-43b6e9ffe73a",
   "metadata": {},
   "source": [
    "Q 10 Write a Python program that reads a CSV file containing sales data for different products and visulaizes the data using a stacked bar chart to show the sales of each product category over time. The program should prompt the user to enter the file path and display the chart."
   ]
  },
  {
   "cell_type": "markdown",
   "id": "47a7e919-2b73-4d4d-bed0-845a9d32640f",
   "metadata": {},
   "source": [
    "Ans - Here's a Python program that reads a CSV file, converts a specified column to a categorical data type, sorts the data based on the categorical order, and displays the sorted data:"
   ]
  },
  {
   "cell_type": "code",
   "execution_count": null,
   "id": "7e749097-b585-473d-8f79-1bdd38e809d9",
   "metadata": {},
   "outputs": [],
   "source": [
    "import pandas as pd\n",
    "\n",
    "# Function to convert specified column to categorical\n",
    "def convert_to_categorical(data, column_name, category_order):\n",
    "    # Convert the column to categorical with specified category order\n",
    "    data[column_name] = pd.Categorical(data[column_name], categories=category_order, ordered=True)\n",
    "    return data\n",
    "\n",
    "# Function to sort data based on the specified column\n",
    "def sort_data(data, column_name):\n",
    "    sorted_data = data.sort_values(by=[column_name])\n",
    "    return sorted_data\n",
    "\n",
    "# Prompt user for input\n",
    "file_path = input(\"Enter the CSV file path: \")\n",
    "column_name = input(\"Enter the column name to convert to categorical: \")\n",
    "category_order = input(\"Enter the category order (comma-separated): \").split(\",\")\n",
    "\n",
    "# Read CSV file\n",
    "data = pd.read_csv(file_path)\n",
    "\n",
    "# Convert specified column to categorical\n",
    "data = convert_to_categorical(data, column_name, category_order)\n",
    "\n",
    "# Sort data based on the specified column\n",
    "sorted_data = sort_data(data, column_name)\n",
    "\n",
    "# Display the sorted data\n",
    "print(\"Sorted Data:\")\n",
    "print(sorted_data)\n"
   ]
  }
 ],
 "metadata": {
  "kernelspec": {
   "display_name": "Python 3 (ipykernel)",
   "language": "python",
   "name": "python3"
  },
  "language_info": {
   "codemirror_mode": {
    "name": "ipython",
    "version": 3
   },
   "file_extension": ".py",
   "mimetype": "text/x-python",
   "name": "python",
   "nbconvert_exporter": "python",
   "pygments_lexer": "ipython3",
   "version": "3.10.8"
  }
 },
 "nbformat": 4,
 "nbformat_minor": 5
}
